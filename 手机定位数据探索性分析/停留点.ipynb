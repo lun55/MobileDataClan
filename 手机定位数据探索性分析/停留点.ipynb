{
 "cells": [
  {
   "cell_type": "code",
   "execution_count": 1,
   "id": "7c6116c1",
   "metadata": {},
   "outputs": [],
   "source": [
    "import os\n",
    "import pandas as pd\n",
    "import numpy as np\n",
    "from io import StringIO\n",
    "from tqdm import tqdm\n",
    "from collections import defaultdict\n",
    "from concurrent.futures import ProcessPoolExecutor, ThreadPoolExecutor\n",
    "import geopandas as gpd"
   ]
  },
  {
   "cell_type": "code",
   "execution_count": 5,
   "id": "ef4d26ad",
   "metadata": {},
   "outputs": [],
   "source": [
    "#  统计用户停留点的数量\n",
    "def caculate_adj_staypoint(data):\n",
    "    transition_counts = (\n",
    "        data.groupby(['ID'])\n",
    "        .size()\n",
    "        .reset_index(name='visit_count')\n",
    "    )\n",
    "    return transition_counts"
   ]
  },
  {
   "cell_type": "code",
   "execution_count": 6,
   "id": "f4445f87",
   "metadata": {},
   "outputs": [
    {
     "data": {
      "text/html": [
       "<div>\n",
       "<style scoped>\n",
       "    .dataframe tbody tr th:only-of-type {\n",
       "        vertical-align: middle;\n",
       "    }\n",
       "\n",
       "    .dataframe tbody tr th {\n",
       "        vertical-align: top;\n",
       "    }\n",
       "\n",
       "    .dataframe thead th {\n",
       "        text-align: right;\n",
       "    }\n",
       "</style>\n",
       "<table border=\"1\" class=\"dataframe\">\n",
       "  <thead>\n",
       "    <tr style=\"text-align: right;\">\n",
       "      <th></th>\n",
       "      <th>ID</th>\n",
       "      <th>visit_count</th>\n",
       "    </tr>\n",
       "  </thead>\n",
       "  <tbody>\n",
       "    <tr>\n",
       "      <th>0</th>\n",
       "      <td>00001b94-cbad-357d-a3f7-93840bd9fd6a</td>\n",
       "      <td>2</td>\n",
       "    </tr>\n",
       "    <tr>\n",
       "      <th>1</th>\n",
       "      <td>00002edc-5b31-42d7-913b-4c06358ef30a</td>\n",
       "      <td>3</td>\n",
       "    </tr>\n",
       "    <tr>\n",
       "      <th>2</th>\n",
       "      <td>00003585~8kc4f`aj ;5m`yc7&lt;5idbi677b</td>\n",
       "      <td>2</td>\n",
       "    </tr>\n",
       "    <tr>\n",
       "      <th>3</th>\n",
       "      <td>000045bd-9334-43c9-a2af-dcf62c170d72</td>\n",
       "      <td>4</td>\n",
       "    </tr>\n",
       "    <tr>\n",
       "      <th>4</th>\n",
       "      <td>00005d00-23e1-4d38-ae2d-f9b3a9143f3f</td>\n",
       "      <td>2</td>\n",
       "    </tr>\n",
       "    <tr>\n",
       "      <th>...</th>\n",
       "      <td>...</td>\n",
       "      <td>...</td>\n",
       "    </tr>\n",
       "    <tr>\n",
       "      <th>1206336</th>\n",
       "      <td>gfjndo?5~kn64f46e bf87yba8?;24656fa</td>\n",
       "      <td>3</td>\n",
       "    </tr>\n",
       "    <tr>\n",
       "      <th>1206337</th>\n",
       "      <td>gfk34ok&gt;~hm`efh81 8fk2yll9emc4hgd14</td>\n",
       "      <td>3</td>\n",
       "    </tr>\n",
       "    <tr>\n",
       "      <th>1206338</th>\n",
       "      <td>gfk379=?~3ogcf49b 8ciay360&gt;9f0236be</td>\n",
       "      <td>3</td>\n",
       "    </tr>\n",
       "    <tr>\n",
       "      <th>1206339</th>\n",
       "      <td>gfke7494~8h74f69f bfe0y1703o:161175</td>\n",
       "      <td>2</td>\n",
       "    </tr>\n",
       "    <tr>\n",
       "      <th>1206340</th>\n",
       "      <td>gfkna;:4~oo4cfh96 bad5y718co72a45eb</td>\n",
       "      <td>3</td>\n",
       "    </tr>\n",
       "  </tbody>\n",
       "</table>\n",
       "<p>1206341 rows × 2 columns</p>\n",
       "</div>"
      ],
      "text/plain": [
       "                                           ID  visit_count\n",
       "0        00001b94-cbad-357d-a3f7-93840bd9fd6a            2\n",
       "1        00002edc-5b31-42d7-913b-4c06358ef30a            3\n",
       "2        00003585~8kc4f`aj ;5m`yc7<5idbi677b            2\n",
       "3        000045bd-9334-43c9-a2af-dcf62c170d72            4\n",
       "4        00005d00-23e1-4d38-ae2d-f9b3a9143f3f            2\n",
       "...                                       ...          ...\n",
       "1206336  gfjndo?5~kn64f46e bf87yba8?;24656fa            3\n",
       "1206337  gfk34ok>~hm`efh81 8fk2yll9emc4hgd14            3\n",
       "1206338  gfk379=?~3ogcf49b 8ciay360>9f0236be            3\n",
       "1206339  gfke7494~8h74f69f bfe0y1703o:161175            2\n",
       "1206340  gfkna;:4~oo4cfh96 bad5y718co72a45eb            3\n",
       "\n",
       "[1206341 rows x 2 columns]"
      ]
     },
     "execution_count": 6,
     "metadata": {},
     "output_type": "execute_result"
    }
   ],
   "source": [
    "data = pd.read_csv(r\"H:\\结果数据\\停留点\\福州\\4月\\Timing_4_1.csv\")\n",
    "transition_counts = caculate_adj_staypoint(data)\n",
    "transition_counts"
   ]
  },
  {
   "cell_type": "code",
   "execution_count": 7,
   "id": "28bf8017",
   "metadata": {},
   "outputs": [
    {
     "data": {
      "text/plain": [
       "<Axes: xlabel='visit_count'>"
      ]
     },
     "execution_count": 7,
     "metadata": {},
     "output_type": "execute_result"
    },
    {
     "data": {
      "image/png": "[encoded data removed]",
      "text/plain": [
       "<Figure size 640x480 with 1 Axes>"
      ]
     },
     "metadata": {},
     "output_type": "display_data"
    }
   ],
   "source": [
    "vist_count = (\n",
    "        transition_counts.groupby(['visit_count'])\n",
    "        .size()\n",
    "        .reset_index(name='count')\n",
    "    )\n",
    "vist_count.plot(x='visit_count',y='count',kind='bar') # 停留的数量在4个以内，以2个为最多"
   ]
  },
  {
   "cell_type": "code",
   "execution_count": null,
   "id": "1d6e477d",
   "metadata": {},
   "outputs": [],
   "source": []
  }
 ],
 "metadata": {
  "kernelspec": {
   "display_name": "Python 3",
   "language": "python",
   "name": "python3"
  },
  "language_info": {
   "codemirror_mode": {
    "name": "ipython",
    "version": 3
   },
   "file_extension": ".py",
   "mimetype": "text/x-python",
   "name": "python",
   "nbconvert_exporter": "python",
   "pygments_lexer": "ipython3",
   "version": "3.10.16"
  }
 },
 "nbformat": 4,
 "nbformat_minor": 5
}
