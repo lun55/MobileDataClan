{
 "cells": [
  {
   "cell_type": "code",
   "execution_count": 1,
   "id": "fdd24936",
   "metadata": {},
   "outputs": [],
   "source": [
    "import os\n",
    "import glob\n",
    "import re\n",
    "from tqdm import tqdm\n",
    "import pandas as pd\n",
    "from easydict import EasyDict as edict"
   ]
  },
  {
   "cell_type": "code",
   "execution_count": 3,
   "id": "e41fe75a",
   "metadata": {},
   "outputs": [],
   "source": [
    "def analyze_city_data(input_folder):\n",
    "    # 获取所有CSV文件路径\n",
    "    csv_files = glob.glob(os.path.join(input_folder, \"**/*.csv\"), recursive=True)\n",
    "    \n",
    "    # 初始化结果表\n",
    "    result_data = []\n",
    "    \n",
    "    # 处理每个CSV文件\n",
    "    for csv_file in tqdm(csv_files, desc=\"Processing files\"):\n",
    "        try:\n",
    "            basename = os.path.basename(csv_file)\n",
    "            city_name = basename.split(\".\")[0]\n",
    "            \n",
    "            # 读取CSV文件（优化内存使用）\n",
    "            city_df = pd.read_csv(csv_file, usecols=['脱敏ID'])  # 只读取必要列\n",
    "            \n",
    "            # 计算统计指标\n",
    "            file_info = {\n",
    "                'filename': basename,\n",
    "                'city': city_name,\n",
    "                'file_path': csv_file,\n",
    "                'user_count': city_df['脱敏ID'].nunique(),  # 更高效的用户量计算\n",
    "                'record_count': len(city_df),           # 总记录数\n",
    "                'file_size_mb': os.path.getsize(csv_file) / (1024 * 1024)  # 文件大小(MB)\n",
    "            }\n",
    "            result_data.append(file_info)\n",
    "            \n",
    "        except Exception as e:\n",
    "            print(f\"Error processing {csv_file}: {str(e)}\")\n",
    "            continue\n",
    "    \n",
    "    # 创建结果DataFrame\n",
    "    stats_df = pd.DataFrame(result_data)\n",
    "    \n",
    "    return stats_df"
   ]
  },
  {
   "cell_type": "code",
   "execution_count": 5,
   "id": "c3703c5c",
   "metadata": {},
   "outputs": [
    {
     "name": "stderr",
     "output_type": "stream",
     "text": [
      "Processing files: 100%|██████████| 371/371 [16:18<00:00,  2.64s/it]  "
     ]
    },
    {
     "name": "stdout",
     "output_type": "stream",
     "text": [
      "结果已保存至: H:\\全国城市\\统计\\六城市\\Timing\\9\\stats_9_25.csv\n"
     ]
    },
    {
     "name": "stderr",
     "output_type": "stream",
     "text": [
      "\n"
     ]
    }
   ],
   "source": [
    "# 全国用户数据统计\n",
    "areas = [\"福州\", \"厦门\", \"泉州\"]\n",
    "areas = [\"六城市\"]\n",
    "dataset = \"Timing\"\n",
    "month = 9\n",
    "output_folder = \"H:\\全国城市\\统计\"\n",
    "dates = [f\"{month}_{day}\" for day in range(3, 10)]  # 4月3日-4月9日\n",
    "dates = [\"9_25\"]\n",
    "for area in areas:\n",
    "    for date in dates:\n",
    "        # input_folder = rf\"H:\\全国城市\\{area}\\{dataset}\\{month}月\\Timing_{date}\"\n",
    "        input_folder = r\"H:\\全国城市\\合并\\6城市\\9月\"\n",
    "        city_stats = analyze_city_data(input_folder)\n",
    "        # 保存结果\n",
    "        output_path = os.path.join(output_folder, area, dataset, str(month))\n",
    "        os.makedirs(output_path, exist_ok=True)\n",
    "        output_file = os.path.join(output_path, f\"stats_{date}.csv\")\n",
    "        city_stats.to_csv(output_file, index=False)\n",
    "        print(f\"结果已保存至: {output_file}\")"
   ]
  },
  {
   "cell_type": "code",
   "execution_count": null,
   "id": "5f5f997d",
   "metadata": {},
   "outputs": [],
   "source": []
  }
 ],
 "metadata": {
  "kernelspec": {
   "display_name": "Python 3",
   "language": "python",
   "name": "python3"
  },
  "language_info": {
   "codemirror_mode": {
    "name": "ipython",
    "version": 3
   },
   "file_extension": ".py",
   "mimetype": "text/x-python",
   "name": "python",
   "nbconvert_exporter": "python",
   "pygments_lexer": "ipython3",
   "version": "3.10.16"
  }
 },
 "nbformat": 4,
 "nbformat_minor": 5
}
